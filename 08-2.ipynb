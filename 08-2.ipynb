{
 "cells": [
  {
   "cell_type": "markdown",
   "id": "4452afb1-3d2b-4cdb-8aca-e847018d8e73",
   "metadata": {},
   "source": [
    "## 합성곱 신경망"
   ]
  },
  {
   "cell_type": "code",
   "execution_count": 1,
   "id": "13f48a4a-663a-446d-a8f9-0a5ffa9d8ca3",
   "metadata": {},
   "outputs": [],
   "source": [
    "import tensorflow as tf"
   ]
  },
  {
   "cell_type": "code",
   "execution_count": 3,
   "id": "539cb2ad-2497-4363-8d1c-a7077ad0650b",
   "metadata": {},
   "outputs": [],
   "source": [
    "from tensorflow import keras\n",
    "from sklearn.model_selection import train_test_split"
   ]
  },
  {
   "cell_type": "code",
   "execution_count": 4,
   "id": "c75a7fa5-7c90-4eed-9f10-2acf743c0147",
   "metadata": {},
   "outputs": [],
   "source": [
    "(train_input, train_target), (test_input, test_target) = \\\n",
    "keras.datasets.fashion_mnist.load_data()"
   ]
  },
  {
   "cell_type": "code",
   "execution_count": 5,
   "id": "08a321bb-fedf-44e2-95ef-0c00ffb8ffa1",
   "metadata": {},
   "outputs": [],
   "source": [
    "train_scaled = train_input.reshape(-1, 28, 28, 1) / 255.0"
   ]
  },
  {
   "cell_type": "code",
   "execution_count": 6,
   "id": "e15feb48-17c1-4680-b963-befbfb37e6a5",
   "metadata": {},
   "outputs": [],
   "source": [
    "train_scaled, val_scaled, train_target, val_target = \\\n",
    "train_test_split(train_scaled, train_target, test_size=0.2)"
   ]
  },
  {
   "cell_type": "code",
   "execution_count": 7,
   "id": "b86fa8ad-78af-4bd8-89da-5c34c644d14a",
   "metadata": {},
   "outputs": [
    {
     "data": {
      "text/plain": [
       "(48000, 28, 28, 1)"
      ]
     },
     "execution_count": 7,
     "metadata": {},
     "output_type": "execute_result"
    }
   ],
   "source": [
    "train_scaled.shape"
   ]
  },
  {
   "cell_type": "code",
   "execution_count": 8,
   "id": "be61895a-cace-4f6b-a4c2-cde4d9c6a126",
   "metadata": {},
   "outputs": [],
   "source": [
    "model = keras.Sequential()"
   ]
  },
  {
   "cell_type": "code",
   "execution_count": 9,
   "id": "f7eb01b8-502d-4655-9e1e-e77769d62d99",
   "metadata": {},
   "outputs": [
    {
     "name": "stderr",
     "output_type": "stream",
     "text": [
      "C:\\Users\\2-15\\Desktop\\DMF\\ML\\venv\\Lib\\site-packages\\keras\\src\\layers\\convolutional\\base_conv.py:107: UserWarning: Do not pass an `input_shape`/`input_dim` argument to a layer. When using Sequential models, prefer using an `Input(shape)` object as the first layer in the model instead.\n",
      "  super().__init__(activity_regularizer=activity_regularizer, **kwargs)\n"
     ]
    }
   ],
   "source": [
    "model.add(keras.layers.Conv2D(32, kernel_size=3, activation='relu', padding='same', input_shape=(28,28,1)))"
   ]
  },
  {
   "cell_type": "code",
   "execution_count": 10,
   "id": "864f33c7-64e3-4fca-8ff3-6f95a231963d",
   "metadata": {},
   "outputs": [],
   "source": [
    "model.add(keras.layers.MaxPooling2D(2))"
   ]
  },
  {
   "cell_type": "code",
   "execution_count": 11,
   "id": "c58f1bcd-c954-4cdf-8d90-c7a64b3ecf4c",
   "metadata": {},
   "outputs": [],
   "source": [
    "model.add(keras.layers.Conv2D(64, kernel_size=3, activation='relu', padding='same'))\n",
    "model.add(keras.layers.MaxPooling2D(2))"
   ]
  },
  {
   "cell_type": "code",
   "execution_count": 12,
   "id": "c3104daa-e33a-4124-924e-68b320be2462",
   "metadata": {},
   "outputs": [],
   "source": [
    "model.add(keras.layers.Flatten())\n",
    "model.add(keras.layers.Dense(100, activation='relu'))\n",
    "model.add(keras.layers.Dropout(0,4))\n",
    "model.add(keras.layers.Dense(10, activation='softmax'))"
   ]
  },
  {
   "cell_type": "code",
   "execution_count": 13,
   "id": "110481b6-1f32-4db3-bef5-571336c965db",
   "metadata": {},
   "outputs": [
    {
     "data": {
      "text/html": [
       "<pre style=\"white-space:pre;overflow-x:auto;line-height:normal;font-family:Menlo,'DejaVu Sans Mono',consolas,'Courier New',monospace\"><span style=\"font-weight: bold\">Model: \"sequential\"</span>\n",
       "</pre>\n"
      ],
      "text/plain": [
       "\u001b[1mModel: \"sequential\"\u001b[0m\n"
      ]
     },
     "metadata": {},
     "output_type": "display_data"
    },
    {
     "data": {
      "text/html": [
       "<pre style=\"white-space:pre;overflow-x:auto;line-height:normal;font-family:Menlo,'DejaVu Sans Mono',consolas,'Courier New',monospace\">┏━━━━━━━━━━━━━┳━━━━━━━━━━┳━━━━━━┓\n",
       "┃<span style=\"font-weight: bold\"> Layer       </span>┃<span style=\"font-weight: bold\"> Output   </span>┃<span style=\"font-weight: bold\"> Par… </span>┃\n",
       "┃<span style=\"font-weight: bold\"> (type)      </span>┃<span style=\"font-weight: bold\"> Shape    </span>┃<span style=\"font-weight: bold\">    # </span>┃\n",
       "┡━━━━━━━━━━━━━╇━━━━━━━━━━╇━━━━━━┩\n",
       "│ conv2d      │ (<span style=\"color: #00d7ff; text-decoration-color: #00d7ff\">None</span>,   │  <span style=\"color: #00af00; text-decoration-color: #00af00\">320</span> │\n",
       "│ (<span style=\"color: #0087ff; text-decoration-color: #0087ff\">Conv2D</span>)    │ <span style=\"color: #00af00; text-decoration-color: #00af00\">28</span>, <span style=\"color: #00af00; text-decoration-color: #00af00\">28</span>,  │      │\n",
       "│             │ <span style=\"color: #00af00; text-decoration-color: #00af00\">32</span>)      │      │\n",
       "├─────────────┼──────────┼──────┤\n",
       "│ max_poolin… │ (<span style=\"color: #00d7ff; text-decoration-color: #00d7ff\">None</span>,   │    <span style=\"color: #00af00; text-decoration-color: #00af00\">0</span> │\n",
       "│ (<span style=\"color: #0087ff; text-decoration-color: #0087ff\">MaxPoolin…</span> │ <span style=\"color: #00af00; text-decoration-color: #00af00\">14</span>, <span style=\"color: #00af00; text-decoration-color: #00af00\">14</span>,  │      │\n",
       "│             │ <span style=\"color: #00af00; text-decoration-color: #00af00\">32</span>)      │      │\n",
       "├─────────────┼──────────┼──────┤\n",
       "│ conv2d_1    │ (<span style=\"color: #00d7ff; text-decoration-color: #00d7ff\">None</span>,   │ <span style=\"color: #00af00; text-decoration-color: #00af00\">18,…</span> │\n",
       "│ (<span style=\"color: #0087ff; text-decoration-color: #0087ff\">Conv2D</span>)    │ <span style=\"color: #00af00; text-decoration-color: #00af00\">14</span>, <span style=\"color: #00af00; text-decoration-color: #00af00\">14</span>,  │      │\n",
       "│             │ <span style=\"color: #00af00; text-decoration-color: #00af00\">64</span>)      │      │\n",
       "├─────────────┼──────────┼──────┤\n",
       "│ max_poolin… │ (<span style=\"color: #00d7ff; text-decoration-color: #00d7ff\">None</span>,   │    <span style=\"color: #00af00; text-decoration-color: #00af00\">0</span> │\n",
       "│ (<span style=\"color: #0087ff; text-decoration-color: #0087ff\">MaxPoolin…</span> │ <span style=\"color: #00af00; text-decoration-color: #00af00\">7</span>, <span style=\"color: #00af00; text-decoration-color: #00af00\">7</span>,    │      │\n",
       "│             │ <span style=\"color: #00af00; text-decoration-color: #00af00\">64</span>)      │      │\n",
       "├─────────────┼──────────┼──────┤\n",
       "│ flatten     │ (<span style=\"color: #00d7ff; text-decoration-color: #00d7ff\">None</span>,   │    <span style=\"color: #00af00; text-decoration-color: #00af00\">0</span> │\n",
       "│ (<span style=\"color: #0087ff; text-decoration-color: #0087ff\">Flatten</span>)   │ <span style=\"color: #00af00; text-decoration-color: #00af00\">3136</span>)    │      │\n",
       "├─────────────┼──────────┼──────┤\n",
       "│ dense       │ (<span style=\"color: #00d7ff; text-decoration-color: #00d7ff\">None</span>,   │ <span style=\"color: #00af00; text-decoration-color: #00af00\">313…</span> │\n",
       "│ (<span style=\"color: #0087ff; text-decoration-color: #0087ff\">Dense</span>)     │ <span style=\"color: #00af00; text-decoration-color: #00af00\">100</span>)     │      │\n",
       "├─────────────┼──────────┼──────┤\n",
       "│ dropout     │ (<span style=\"color: #00d7ff; text-decoration-color: #00d7ff\">None</span>,   │    <span style=\"color: #00af00; text-decoration-color: #00af00\">0</span> │\n",
       "│ (<span style=\"color: #0087ff; text-decoration-color: #0087ff\">Dropout</span>)   │ <span style=\"color: #00af00; text-decoration-color: #00af00\">100</span>)     │      │\n",
       "├─────────────┼──────────┼──────┤\n",
       "│ dense_1     │ (<span style=\"color: #00d7ff; text-decoration-color: #00d7ff\">None</span>,   │ <span style=\"color: #00af00; text-decoration-color: #00af00\">1,0…</span> │\n",
       "│ (<span style=\"color: #0087ff; text-decoration-color: #0087ff\">Dense</span>)     │ <span style=\"color: #00af00; text-decoration-color: #00af00\">10</span>)      │      │\n",
       "└─────────────┴──────────┴──────┘\n",
       "</pre>\n"
      ],
      "text/plain": [
       "┏━━━━━━━━━━━━━┳━━━━━━━━━━┳━━━━━━┓\n",
       "┃\u001b[1m \u001b[0m\u001b[1mLayer      \u001b[0m\u001b[1m \u001b[0m┃\u001b[1m \u001b[0m\u001b[1mOutput  \u001b[0m\u001b[1m \u001b[0m┃\u001b[1m \u001b[0m\u001b[1mPar…\u001b[0m\u001b[1m \u001b[0m┃\n",
       "┃\u001b[1m \u001b[0m\u001b[1m(type)     \u001b[0m\u001b[1m \u001b[0m┃\u001b[1m \u001b[0m\u001b[1mShape   \u001b[0m\u001b[1m \u001b[0m┃\u001b[1m \u001b[0m\u001b[1m   #\u001b[0m\u001b[1m \u001b[0m┃\n",
       "┡━━━━━━━━━━━━━╇━━━━━━━━━━╇━━━━━━┩\n",
       "│ conv2d      │ (\u001b[38;5;45mNone\u001b[0m,   │  \u001b[38;5;34m320\u001b[0m │\n",
       "│ (\u001b[38;5;33mConv2D\u001b[0m)    │ \u001b[38;5;34m28\u001b[0m, \u001b[38;5;34m28\u001b[0m,  │      │\n",
       "│             │ \u001b[38;5;34m32\u001b[0m)      │      │\n",
       "├─────────────┼──────────┼──────┤\n",
       "│ max_poolin… │ (\u001b[38;5;45mNone\u001b[0m,   │    \u001b[38;5;34m0\u001b[0m │\n",
       "│ (\u001b[38;5;33mMaxPoolin…\u001b[0m │ \u001b[38;5;34m14\u001b[0m, \u001b[38;5;34m14\u001b[0m,  │      │\n",
       "│             │ \u001b[38;5;34m32\u001b[0m)      │      │\n",
       "├─────────────┼──────────┼──────┤\n",
       "│ conv2d_1    │ (\u001b[38;5;45mNone\u001b[0m,   │ \u001b[38;5;34m18,…\u001b[0m │\n",
       "│ (\u001b[38;5;33mConv2D\u001b[0m)    │ \u001b[38;5;34m14\u001b[0m, \u001b[38;5;34m14\u001b[0m,  │      │\n",
       "│             │ \u001b[38;5;34m64\u001b[0m)      │      │\n",
       "├─────────────┼──────────┼──────┤\n",
       "│ max_poolin… │ (\u001b[38;5;45mNone\u001b[0m,   │    \u001b[38;5;34m0\u001b[0m │\n",
       "│ (\u001b[38;5;33mMaxPoolin…\u001b[0m │ \u001b[38;5;34m7\u001b[0m, \u001b[38;5;34m7\u001b[0m,    │      │\n",
       "│             │ \u001b[38;5;34m64\u001b[0m)      │      │\n",
       "├─────────────┼──────────┼──────┤\n",
       "│ flatten     │ (\u001b[38;5;45mNone\u001b[0m,   │    \u001b[38;5;34m0\u001b[0m │\n",
       "│ (\u001b[38;5;33mFlatten\u001b[0m)   │ \u001b[38;5;34m3136\u001b[0m)    │      │\n",
       "├─────────────┼──────────┼──────┤\n",
       "│ dense       │ (\u001b[38;5;45mNone\u001b[0m,   │ \u001b[38;5;34m313…\u001b[0m │\n",
       "│ (\u001b[38;5;33mDense\u001b[0m)     │ \u001b[38;5;34m100\u001b[0m)     │      │\n",
       "├─────────────┼──────────┼──────┤\n",
       "│ dropout     │ (\u001b[38;5;45mNone\u001b[0m,   │    \u001b[38;5;34m0\u001b[0m │\n",
       "│ (\u001b[38;5;33mDropout\u001b[0m)   │ \u001b[38;5;34m100\u001b[0m)     │      │\n",
       "├─────────────┼──────────┼──────┤\n",
       "│ dense_1     │ (\u001b[38;5;45mNone\u001b[0m,   │ \u001b[38;5;34m1,0…\u001b[0m │\n",
       "│ (\u001b[38;5;33mDense\u001b[0m)     │ \u001b[38;5;34m10\u001b[0m)      │      │\n",
       "└─────────────┴──────────┴──────┘\n"
      ]
     },
     "metadata": {},
     "output_type": "display_data"
    },
    {
     "data": {
      "text/html": [
       "<pre style=\"white-space:pre;overflow-x:auto;line-height:normal;font-family:Menlo,'DejaVu Sans Mono',consolas,'Courier New',monospace\"><span style=\"font-weight: bold\"> Total params: </span><span style=\"color: #00af00; text-decoration-color: #00af00\">333,526</span> (1.27 MB)\n",
       "</pre>\n"
      ],
      "text/plain": [
       "\u001b[1m Total params: \u001b[0m\u001b[38;5;34m333,526\u001b[0m (1.27 MB)\n"
      ]
     },
     "metadata": {},
     "output_type": "display_data"
    },
    {
     "data": {
      "text/html": [
       "<pre style=\"white-space:pre;overflow-x:auto;line-height:normal;font-family:Menlo,'DejaVu Sans Mono',consolas,'Courier New',monospace\"><span style=\"font-weight: bold\"> Trainable params: </span><span style=\"color: #00af00; text-decoration-color: #00af00\">333,526</span> (1.27 MB)\n",
       "</pre>\n"
      ],
      "text/plain": [
       "\u001b[1m Trainable params: \u001b[0m\u001b[38;5;34m333,526\u001b[0m (1.27 MB)\n"
      ]
     },
     "metadata": {},
     "output_type": "display_data"
    },
    {
     "data": {
      "text/html": [
       "<pre style=\"white-space:pre;overflow-x:auto;line-height:normal;font-family:Menlo,'DejaVu Sans Mono',consolas,'Courier New',monospace\"><span style=\"font-weight: bold\"> Non-trainable params: </span><span style=\"color: #00af00; text-decoration-color: #00af00\">0</span> (0.00 B)\n",
       "</pre>\n"
      ],
      "text/plain": [
       "\u001b[1m Non-trainable params: \u001b[0m\u001b[38;5;34m0\u001b[0m (0.00 B)\n"
      ]
     },
     "metadata": {},
     "output_type": "display_data"
    }
   ],
   "source": [
    "model.summary()"
   ]
  },
  {
   "cell_type": "code",
   "execution_count": 14,
   "id": "1cbce5f5-e4a2-4e38-82d1-a62ae6fafec9",
   "metadata": {},
   "outputs": [],
   "source": [
    "# keras.utils.plot_model(model)"
   ]
  },
  {
   "cell_type": "code",
   "execution_count": 15,
   "id": "876e523b-20c7-4ae5-aa72-f3bde4d539f0",
   "metadata": {},
   "outputs": [
    {
     "name": "stdout",
     "output_type": "stream",
     "text": [
      "Epoch 1/20\n",
      "\u001b[1m1500/1500\u001b[0m \u001b[32m━━━━━━━━━━━━━━━━━━━━\u001b[0m\u001b[37m\u001b[0m \u001b[1m19s\u001b[0m 12ms/step - accuracy: 0.7832 - loss: 0.5946 - val_accuracy: 0.8898 - val_loss: 0.3098\n",
      "Epoch 2/20\n",
      "\u001b[1m1500/1500\u001b[0m \u001b[32m━━━━━━━━━━━━━━━━━━━━\u001b[0m\u001b[37m\u001b[0m \u001b[1m17s\u001b[0m 11ms/step - accuracy: 0.8958 - loss: 0.2853 - val_accuracy: 0.9010 - val_loss: 0.2731\n",
      "Epoch 3/20\n",
      "\u001b[1m1500/1500\u001b[0m \u001b[32m━━━━━━━━━━━━━━━━━━━━\u001b[0m\u001b[37m\u001b[0m \u001b[1m16s\u001b[0m 11ms/step - accuracy: 0.9129 - loss: 0.2353 - val_accuracy: 0.9109 - val_loss: 0.2431\n",
      "Epoch 4/20\n",
      "\u001b[1m1500/1500\u001b[0m \u001b[32m━━━━━━━━━━━━━━━━━━━━\u001b[0m\u001b[37m\u001b[0m \u001b[1m17s\u001b[0m 11ms/step - accuracy: 0.9259 - loss: 0.2013 - val_accuracy: 0.9193 - val_loss: 0.2243\n",
      "Epoch 5/20\n",
      "\u001b[1m1500/1500\u001b[0m \u001b[32m━━━━━━━━━━━━━━━━━━━━\u001b[0m\u001b[37m\u001b[0m \u001b[1m17s\u001b[0m 12ms/step - accuracy: 0.9362 - loss: 0.1736 - val_accuracy: 0.9122 - val_loss: 0.2425\n",
      "Epoch 6/20\n",
      "\u001b[1m1500/1500\u001b[0m \u001b[32m━━━━━━━━━━━━━━━━━━━━\u001b[0m\u001b[37m\u001b[0m \u001b[1m13s\u001b[0m 9ms/step - accuracy: 0.9449 - loss: 0.1439 - val_accuracy: 0.9191 - val_loss: 0.2251\n"
     ]
    }
   ],
   "source": [
    "model.compile(\n",
    "    optimizer='adam',\n",
    "    loss='sparse_categorical_crossentropy',\n",
    "    metrics=['accuracy']\n",
    ")\n",
    "\n",
    "cp_cb = keras.callbacks.ModelCheckpoint(\n",
    "    'model.keras',\n",
    "    save_best_only=True\n",
    ")\n",
    "\n",
    "es_cb = keras.callbacks.EarlyStopping(\n",
    "    patience=2,\n",
    "    restore_best_weights=True\n",
    ")\n",
    "\n",
    "history = model.fit(\n",
    "    train_scaled, \n",
    "    train_target, \n",
    "    epochs=20, \n",
    "    validation_data=(val_scaled, val_target),\n",
    "    callbacks=[es_cb, cp_cb]\n",
    ")"
   ]
  },
  {
   "cell_type": "code",
   "execution_count": 17,
   "id": "1fef97c1-b948-47a3-b49b-2cf90cb01879",
   "metadata": {},
   "outputs": [
    {
     "data": {
      "image/png": "[encoded data removed]",
      "text/plain": [
       "<Figure size 640x480 with 1 Axes>"
      ]
     },
     "metadata": {},
     "output_type": "display_data"
    }
   ],
   "source": [
    "import matplotlib.pyplot as plt\n",
    "plt.plot(history.history['loss'])\n",
    "plt.plot(history.history['val_loss'])\n",
    "plt.show()"
   ]
  },
  {
   "cell_type": "code",
   "execution_count": 18,
   "id": "c05d5f80-1892-4b0a-8bed-c4f5ae7095e8",
   "metadata": {},
   "outputs": [
    {
     "name": "stdout",
     "output_type": "stream",
     "text": [
      "\u001b[1m375/375\u001b[0m \u001b[32m━━━━━━━━━━━━━━━━━━━━\u001b[0m\u001b[37m\u001b[0m \u001b[1m1s\u001b[0m 3ms/step - accuracy: 0.9174 - loss: 0.2315\n"
     ]
    },
    {
     "data": {
      "text/plain": [
       "[0.2242635041475296, 0.9193333387374878]"
      ]
     },
     "execution_count": 18,
     "metadata": {},
     "output_type": "execute_result"
    }
   ],
   "source": [
    "model.evaluate(val_scaled, val_target)"
   ]
  },
  {
   "cell_type": "code",
   "execution_count": 19,
   "id": "8abdf640-8285-4e0f-ade0-9605e767fb65",
   "metadata": {},
   "outputs": [
    {
     "data": {
      "image/png": "[encoded data removed]",
      "text/plain": [
       "<Figure size 640x480 with 1 Axes>"
      ]
     },
     "metadata": {},
     "output_type": "display_data"
    }
   ],
   "source": [
    "plt.imshow(val_scaled[0].reshape(28, 28), cmap='gray_r')\n",
    "plt.show()"
   ]
  },
  {
   "cell_type": "code",
   "execution_count": 20,
   "id": "ff0b45a1-2e9b-4af7-a06d-0aff2841bca9",
   "metadata": {},
   "outputs": [
    {
     "name": "stdout",
     "output_type": "stream",
     "text": [
      "\u001b[1m1/1\u001b[0m \u001b[32m━━━━━━━━━━━━━━━━━━━━\u001b[0m\u001b[37m\u001b[0m \u001b[1m0s\u001b[0m 54ms/step\n"
     ]
    },
    {
     "data": {
      "text/plain": [
       "array([[0.  , 0.  , 0.  , 0.  , 0.  , 0.  , 0.  , 0.96, 0.  , 0.03],\n",
       "       [0.01, 0.  , 0.  , 0.97, 0.  , 0.  , 0.01, 0.  , 0.  , 0.  ],\n",
       "       [0.  , 0.  , 0.  , 0.  , 0.  , 0.  , 0.  , 0.  , 1.  , 0.  ],\n",
       "       [0.  , 0.  , 0.  , 0.  , 0.  , 0.  , 0.  , 0.  , 0.  , 1.  ],\n",
       "       [0.  , 0.  , 0.  , 0.  , 0.  , 0.  , 0.  , 1.  , 0.  , 0.  ]],\n",
       "      dtype=float32)"
      ]
     },
     "execution_count": 20,
     "metadata": {},
     "output_type": "execute_result"
    }
   ],
   "source": [
    "import numpy as np\n",
    "np.round(model.predict(val_scaled[:5]), decimals=2)"
   ]
  },
  {
   "cell_type": "code",
   "execution_count": 21,
   "id": "857ea64e-8f10-48a6-a03b-1f619f8c1f3b",
   "metadata": {},
   "outputs": [],
   "source": [
    "test_scaled = test_input.reshape(-1, 28, 28, 1) / 255.0"
   ]
  },
  {
   "cell_type": "code",
   "execution_count": 22,
   "id": "4d733561-fc23-4328-b8b0-a088e442ad1d",
   "metadata": {},
   "outputs": [
    {
     "name": "stdout",
     "output_type": "stream",
     "text": [
      "\u001b[1m313/313\u001b[0m \u001b[32m━━━━━━━━━━━━━━━━━━━━\u001b[0m\u001b[37m\u001b[0m \u001b[1m1s\u001b[0m 3ms/step - accuracy: 0.9109 - loss: 0.2488\n"
     ]
    },
    {
     "data": {
      "text/plain": [
       "[0.2452167421579361, 0.9110999703407288]"
      ]
     },
     "execution_count": 22,
     "metadata": {},
     "output_type": "execute_result"
    }
   ],
   "source": [
    "model.evaluate(test_scaled, test_target)"
   ]
  },
  {
   "cell_type": "code",
   "execution_count": 23,
   "id": "822c69b4-1232-462b-99ab-42e33cdd59c9",
   "metadata": {},
   "outputs": [
    {
     "data": {
      "text/plain": [
       "(10000, 28, 28)"
      ]
     },
     "execution_count": 23,
     "metadata": {},
     "output_type": "execute_result"
    }
   ],
   "source": [
    "test_input.shape"
   ]
  },
  {
   "cell_type": "code",
   "execution_count": null,
   "id": "92e0f374-35c2-47f9-b95e-bec9b084843d",
   "metadata": {},
   "outputs": [],
   "source": []
  }
 ],
 "metadata": {
  "kernelspec": {
   "display_name": "Python 3 (ipykernel)",
   "language": "python",
   "name": "python3"
  },
  "language_info": {
   "codemirror_mode": {
    "name": "ipython",
    "version": 3
   },
   "file_extension": ".py",
   "mimetype": "text/x-python",
   "name": "python",
   "nbconvert_exporter": "python",
   "pygments_lexer": "ipython3",
   "version": "3.12.4"
  }
 },
 "nbformat": 4,
 "nbformat_minor": 5
}
