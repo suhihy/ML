{
 "cells": [
  {
   "cell_type": "markdown",
   "id": "258e96cb-aeae-4f4b-8ef5-31492cfef5c5",
   "metadata": {},
   "source": [
    "# 앙상블 학습\n",
    "- from sklearn.ensemble\n",
    "## 랜덤 포레스트\n",
    "- 복원 추출을 통해 데이터를 뽑음(중복 가능)"
   ]
  },
  {
   "cell_type": "code",
   "execution_count": 18,
   "id": "b22d363f-2e25-4dd1-b21b-b0c8278f8401",
   "metadata": {},
   "outputs": [],
   "source": [
    "import pandas as pd\n",
    "\n",
    "wine = pd.read_csv('https://bit.ly/wine_csv_data')"
   ]
  },
  {
   "cell_type": "code",
   "execution_count": 19,
   "id": "ad005b57-a5ad-4880-9c0a-c8582412e86b",
   "metadata": {},
   "outputs": [],
   "source": [
    "data = wine[['alcohol', 'sugar', 'pH']]\n",
    "target = wine[['class']]"
   ]
  },
  {
   "cell_type": "code",
   "execution_count": 20,
   "id": "60821d8b-73c0-40cc-970b-635fb8a84e6c",
   "metadata": {},
   "outputs": [],
   "source": [
    "from sklearn.model_selection import train_test_split\n",
    "train_input, test_input, train_target, test_target = \\\n",
    "train_test_split(data, target, test_size=0.2, random_state=42)"
   ]
  },
  {
   "cell_type": "code",
   "execution_count": 21,
   "id": "95c7e448-3af1-45b8-a760-0770455e23d1",
   "metadata": {},
   "outputs": [],
   "source": [
    "from sklearn.model_selection import cross_validate\n",
    "from sklearn.ensemble import RandomForestClassifier"
   ]
  },
  {
   "cell_type": "code",
   "execution_count": 22,
   "id": "bb1081b5-9776-4aad-b504-048a70f5faff",
   "metadata": {},
   "outputs": [
    {
     "data": {
      "text/plain": [
       "{'fit_time': array([0.25848007, 0.26391959, 0.28284025, 0.26803493, 0.30730438]),\n",
       " 'score_time': array([0.03514743, 0.03651476, 0.03143001, 0.03338671, 0.02750826]),\n",
       " 'test_score': array([0.88461538, 0.88942308, 0.90279115, 0.88931665, 0.88642926])}"
      ]
     },
     "execution_count": 22,
     "metadata": {},
     "output_type": "execute_result"
    }
   ],
   "source": [
    "rf = RandomForestClassifier(n_jobs=-1, random_state=42)\n",
    "scores = cross_validate(rf, train_input, train_target, n_jobs=-1)\n",
    "scores"
   ]
  },
  {
   "cell_type": "code",
   "execution_count": 24,
   "id": "2eab0be9-117d-45a9-b55d-610e665ff142",
   "metadata": {},
   "outputs": [
    {
     "name": "stderr",
     "output_type": "stream",
     "text": [
      "C:\\Users\\2-15\\Desktop\\DMF\\ML\\venv\\Lib\\site-packages\\sklearn\\base.py:1473: DataConversionWarning: A column-vector y was passed when a 1d array was expected. Please change the shape of y to (n_samples,), for example using ravel().\n",
      "  return fit_method(estimator, *args, **kwargs)\n"
     ]
    },
    {
     "data": {
      "text/plain": [
       "array([0.23167441, 0.50039841, 0.26792718])"
      ]
     },
     "execution_count": 24,
     "metadata": {},
     "output_type": "execute_result"
    }
   ],
   "source": [
    "rf.fit(train_input, train_target)\n",
    "rf.feature_importances_ #분류를 위해 특성 중요도 보여줌(여기서는 가운데 데이터가 중요)"
   ]
  },
  {
   "cell_type": "code",
   "execution_count": 27,
   "id": "2fc2297a-8d00-4488-a309-e523d1a075c6",
   "metadata": {},
   "outputs": [
    {
     "name": "stderr",
     "output_type": "stream",
     "text": [
      "C:\\Users\\2-15\\Desktop\\DMF\\ML\\venv\\Lib\\site-packages\\sklearn\\base.py:1473: DataConversionWarning: A column-vector y was passed when a 1d array was expected. Please change the shape of y to (n_samples,), for example using ravel().\n",
      "  return fit_method(estimator, *args, **kwargs)\n"
     ]
    },
    {
     "data": {
      "text/plain": [
       "0.8939772945930344"
      ]
     },
     "execution_count": 27,
     "metadata": {},
     "output_type": "execute_result"
    }
   ],
   "source": [
    "#OOB 샘플\n",
    "\n",
    "rf = RandomForestClassifier(oob_score=True, n_jobs=-1)\n",
    "rf.fit(trian_input, train_target)\n",
    "rf.oob_score_"
   ]
  },
  {
   "cell_type": "markdown",
   "id": "0ea245cd-bb11-46c3-8cb4-e292c27c184a",
   "metadata": {},
   "source": [
    "## 엑스트라 트리"
   ]
  },
  {
   "cell_type": "code",
   "execution_count": 30,
   "id": "48c23dbf-d424-456e-93ee-2cf1a84b35b7",
   "metadata": {},
   "outputs": [
    {
     "data": {
      "text/plain": [
       "{'fit_time': array([0.17516446, 0.15282035, 0.17986512, 0.15008545, 0.15922046]),\n",
       " 'score_time': array([0.02953863, 0.03024149, 0.02708292, 0.02809024, 0.02800679]),\n",
       " 'test_score': array([0.88173077, 0.87692308, 0.90182868, 0.89316651, 0.88835419]),\n",
       " 'train_score': array([0.9971133 , 0.99663219, 0.998076  , 0.997595  , 0.9978355 ])}"
      ]
     },
     "execution_count": 30,
     "metadata": {},
     "output_type": "execute_result"
    }
   ],
   "source": [
    "from sklearn.ensemble import ExtraTreesClassifier\n",
    "\n",
    "et = ExtraTreesClassifier(n_jobs=-1)\n",
    "scores = cross_validate(\n",
    "    et, train_input, train_target,\n",
    "    return_train_score=True, n_jobs=-1\n",
    ")\n",
    "scores"
   ]
  },
  {
   "cell_type": "code",
   "execution_count": 31,
   "id": "12aa37ca-d356-4629-8708-12aa13f2d351",
   "metadata": {},
   "outputs": [
    {
     "name": "stderr",
     "output_type": "stream",
     "text": [
      "C:\\Users\\2-15\\Desktop\\DMF\\ML\\venv\\Lib\\site-packages\\sklearn\\base.py:1473: DataConversionWarning: A column-vector y was passed when a 1d array was expected. Please change the shape of y to (n_samples,), for example using ravel().\n",
      "  return fit_method(estimator, *args, **kwargs)\n"
     ]
    },
    {
     "data": {
      "text/plain": [
       "array([0.19052953, 0.52510576, 0.28436471])"
      ]
     },
     "execution_count": 31,
     "metadata": {},
     "output_type": "execute_result"
    }
   ],
   "source": [
    "et.fit(train_input, train_target)\n",
    "et.feature_importances_"
   ]
  },
  {
   "cell_type": "markdown",
   "id": "41ba6001-5978-4b0d-aa77-34e4b2912fdc",
   "metadata": {},
   "source": [
    "## 그레이디언트 부스팅\n",
    "- 그레이디언트 => 경사하강법(손실 함수)에서 봤던 개념\n",
    "\n",
    "얕은 결정 트리 사용(과대 적합에 강함), 이전 트리의 오차를 보완하는 방식으로 앙상블"
   ]
  },
  {
   "cell_type": "code",
   "execution_count": 37,
   "id": "ef616609-92f8-4f0b-be75-774bd0748487",
   "metadata": {},
   "outputs": [
    {
     "data": {
      "text/plain": [
       "{'fit_time': array([1.48259234, 1.45289063, 1.45797014, 1.42546511, 1.46311164]),\n",
       " 'score_time': array([0.01146603, 0.00922775, 0.01012278, 0.01046991, 0.00947428]),\n",
       " 'test_score': array([0.875     , 0.87211538, 0.89701636, 0.8719923 , 0.87391723]),\n",
       " 'train_score': array([0.9494828 , 0.94443108, 0.94468494, 0.94324194, 0.95045695])}"
      ]
     },
     "execution_count": 37,
     "metadata": {},
     "output_type": "execute_result"
    }
   ],
   "source": [
    "from sklearn.ensemble import GradientBoostingClassifier\n",
    "\n",
    "gb = GradientBoostingClassifier(n_estimators=500, learning_rate=0.2)\n",
    "scores = cross_validate(gb, train_input, train_target, return_train_score=True, n_jobs=-1)\n",
    "scores\n",
    "\n",
    "# n_estimators=500 -> 트리를 몇 개 쓸지(500개)\n",
    "# learning_rate=0.2 -> 각각의 트리를 얼마나 반영할지(20%) \n",
    "# learning_rate 올라가면 estimator 줄이기 = 반비례 관계 권장// 100 - 0.6도 가능 조율하면서 높은 params 찾는 것이 목표"
   ]
  },
  {
   "cell_type": "markdown",
   "id": "f1f7a98c-4d62-4221-9214-9c3c12fc8c5b",
   "metadata": {},
   "source": [
    "### 히스토그램 기반\n",
    "-256개의 분할 미리 해놓으면 DecisionTree 계산 조금 더 빠름"
   ]
  },
  {
   "cell_type": "code",
   "execution_count": 38,
   "id": "96aa7447-6de2-40b0-887c-16945d36dd01",
   "metadata": {},
   "outputs": [],
   "source": [
    "from sklearn.ensemble import HistGradientBoostingClassifier"
   ]
  },
  {
   "cell_type": "code",
   "execution_count": 39,
   "id": "0f9c10ab-0fdf-4d2d-a174-46fe9d7630b1",
   "metadata": {},
   "outputs": [
    {
     "data": {
      "text/plain": [
       "{'fit_time': array([0.24485731, 0.27356648, 0.27420521, 0.24132919, 0.29298496]),\n",
       " 'score_time': array([0.0169661 , 0.01585221, 0.01796246, 0.01595831, 0.01712728]),\n",
       " 'test_score': array([0.87115385, 0.88365385, 0.90279115, 0.86621752, 0.87680462]),\n",
       " 'train_score': array([0.93192206, 0.93216262, 0.92857143, 0.93265993, 0.93554594])}"
      ]
     },
     "execution_count": 39,
     "metadata": {},
     "output_type": "execute_result"
    }
   ],
   "source": [
    "hgb = HistGradientBoostingClassifier()\n",
    "scores = cross_validate(hgb, train_input, train_target, return_train_score=True, n_jobs=-1)\n",
    "scores"
   ]
  },
  {
   "cell_type": "code",
   "execution_count": null,
   "id": "7ac777d1-526e-4a4e-bc66-a90490e26d57",
   "metadata": {},
   "outputs": [],
   "source": []
  }
 ],
 "metadata": {
  "kernelspec": {
   "display_name": "Python 3 (ipykernel)",
   "language": "python",
   "name": "python3"
  },
  "language_info": {
   "codemirror_mode": {
    "name": "ipython",
    "version": 3
   },
   "file_extension": ".py",
   "mimetype": "text/x-python",
   "name": "python",
   "nbconvert_exporter": "python",
   "pygments_lexer": "ipython3",
   "version": "3.12.4"
  }
 },
 "nbformat": 4,
 "nbformat_minor": 5
}
